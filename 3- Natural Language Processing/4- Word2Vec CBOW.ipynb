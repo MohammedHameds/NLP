{
 "cells": [
  {
   "cell_type": "markdown",
   "metadata": {},
   "source": [
    "Original Notebook\n",
    "\n",
    "https://www.kaggle.com/alincijov/continuous-bag-of-words-cbow-numpy-for-beginners"
   ]
  },
  {
   "cell_type": "markdown",
   "metadata": {},
   "source": [
    "### Imports"
   ]
  },
  {
   "cell_type": "code",
   "execution_count": 1,
   "metadata": {},
   "outputs": [],
   "source": [
    "import re\n",
    "import numpy as np\n",
    "import matplotlib.pyplot as plt"
   ]
  },
  {
   "cell_type": "markdown",
   "metadata": {},
   "source": [
    "### Data"
   ]
  },
  {
   "cell_type": "code",
   "execution_count": 2,
   "metadata": {},
   "outputs": [],
   "source": [
    "sentences = \"\"\"We are about to study the idea of a computational process.\n",
    "Computational processes are abstract beings that inhabit computers.\n",
    "As they evolve, processes manipulate other abstract things called data.\n",
    "The evolution of a process is directed by a pattern of rules\n",
    "called a program. People create programs to direct processes. In effect,\n",
    "we conjure the spirits of the computer with our spells.\"\"\""
   ]
  },
  {
   "cell_type": "markdown",
   "metadata": {},
   "source": [
    "### Clean Data"
   ]
  },
  {
   "cell_type": "code",
   "execution_count": 3,
   "metadata": {},
   "outputs": [
    {
     "data": {
      "text/plain": [
       "'We are about to study the idea of a computational process Computational processes are abstract beings that inhabit computers As they evolve processes manipulate other abstract things called data The evolution of a process is directed by a pattern of rules called a program People create programs to direct processes In effect we conjure the spirits of the computer with our spells '"
      ]
     },
     "execution_count": 3,
     "metadata": {},
     "output_type": "execute_result"
    }
   ],
   "source": [
    "# remove special characters\n",
    "sentences = re.sub('[^A-Za-z0-9]+', ' ', sentences)\n",
    "sentences"
   ]
  },
  {
   "cell_type": "code",
   "execution_count": 4,
   "metadata": {},
   "outputs": [
    {
     "data": {
      "text/plain": [
       "'We are about to study the idea of computational process Computational processes are abstract beings that inhabit computers As they evolve processes manipulate other abstract things called data The evolution of process is directed by pattern of rules called program People create programs to direct processes In effect we conjure the spirits of the computer with our spells'"
      ]
     },
     "execution_count": 4,
     "metadata": {},
     "output_type": "execute_result"
    }
   ],
   "source": [
    "# remove 1 letter words\n",
    "sentences = re.sub(r'(?:^| )\\w(?:$| )', ' ', sentences).strip()\n",
    "sentences"
   ]
  },
  {
   "cell_type": "code",
   "execution_count": 5,
   "metadata": {},
   "outputs": [
    {
     "data": {
      "text/plain": [
       "'we are about to study the idea of computational process computational processes are abstract beings that inhabit computers as they evolve processes manipulate other abstract things called data the evolution of process is directed by pattern of rules called program people create programs to direct processes in effect we conjure the spirits of the computer with our spells'"
      ]
     },
     "execution_count": 5,
     "metadata": {},
     "output_type": "execute_result"
    }
   ],
   "source": [
    "# lower all characters\n",
    "sentences = sentences.lower()\n",
    "sentences"
   ]
  },
  {
   "cell_type": "markdown",
   "metadata": {},
   "source": [
    "### Vocabulary"
   ]
  },
  {
   "cell_type": "code",
   "execution_count": 6,
   "metadata": {},
   "outputs": [
    {
     "data": {
      "text/plain": [
       "['we',\n",
       " 'are',\n",
       " 'about',\n",
       " 'to',\n",
       " 'study',\n",
       " 'the',\n",
       " 'idea',\n",
       " 'of',\n",
       " 'computational',\n",
       " 'process',\n",
       " 'computational',\n",
       " 'processes',\n",
       " 'are',\n",
       " 'abstract',\n",
       " 'beings',\n",
       " 'that',\n",
       " 'inhabit',\n",
       " 'computers',\n",
       " 'as',\n",
       " 'they',\n",
       " 'evolve',\n",
       " 'processes',\n",
       " 'manipulate',\n",
       " 'other',\n",
       " 'abstract',\n",
       " 'things',\n",
       " 'called',\n",
       " 'data',\n",
       " 'the',\n",
       " 'evolution',\n",
       " 'of',\n",
       " 'process',\n",
       " 'is',\n",
       " 'directed',\n",
       " 'by',\n",
       " 'pattern',\n",
       " 'of',\n",
       " 'rules',\n",
       " 'called',\n",
       " 'program',\n",
       " 'people',\n",
       " 'create',\n",
       " 'programs',\n",
       " 'to',\n",
       " 'direct',\n",
       " 'processes',\n",
       " 'in',\n",
       " 'effect',\n",
       " 'we',\n",
       " 'conjure',\n",
       " 'the',\n",
       " 'spirits',\n",
       " 'of',\n",
       " 'the',\n",
       " 'computer',\n",
       " 'with',\n",
       " 'our',\n",
       " 'spells']"
      ]
     },
     "execution_count": 6,
     "metadata": {},
     "output_type": "execute_result"
    }
   ],
   "source": [
    "words = sentences.split()\n",
    "words"
   ]
  },
  {
   "cell_type": "code",
   "execution_count": 7,
   "metadata": {},
   "outputs": [
    {
     "data": {
      "text/plain": [
       "{'about',\n",
       " 'abstract',\n",
       " 'are',\n",
       " 'as',\n",
       " 'beings',\n",
       " 'by',\n",
       " 'called',\n",
       " 'computational',\n",
       " 'computer',\n",
       " 'computers',\n",
       " 'conjure',\n",
       " 'create',\n",
       " 'data',\n",
       " 'direct',\n",
       " 'directed',\n",
       " 'effect',\n",
       " 'evolution',\n",
       " 'evolve',\n",
       " 'idea',\n",
       " 'in',\n",
       " 'inhabit',\n",
       " 'is',\n",
       " 'manipulate',\n",
       " 'of',\n",
       " 'other',\n",
       " 'our',\n",
       " 'pattern',\n",
       " 'people',\n",
       " 'process',\n",
       " 'processes',\n",
       " 'program',\n",
       " 'programs',\n",
       " 'rules',\n",
       " 'spells',\n",
       " 'spirits',\n",
       " 'study',\n",
       " 'that',\n",
       " 'the',\n",
       " 'they',\n",
       " 'things',\n",
       " 'to',\n",
       " 'we',\n",
       " 'with'}"
      ]
     },
     "execution_count": 7,
     "metadata": {},
     "output_type": "execute_result"
    }
   ],
   "source": [
    "vocab = set(words)\n",
    "vocab"
   ]
  },
  {
   "cell_type": "code",
   "execution_count": 8,
   "metadata": {},
   "outputs": [],
   "source": [
    "vocab_size = len(vocab)\n",
    "embed_dim = 10\n",
    "context_size = 2"
   ]
  },
  {
   "cell_type": "markdown",
   "metadata": {},
   "source": [
    "### Dictionaries for vocab"
   ]
  },
  {
   "cell_type": "code",
   "execution_count": 9,
   "metadata": {},
   "outputs": [
    {
     "data": {
      "text/plain": [
       "{'conjure': 0,\n",
       " 'spells': 1,\n",
       " 'that': 2,\n",
       " 'directed': 3,\n",
       " 'as': 4,\n",
       " 'is': 5,\n",
       " 'inhabit': 6,\n",
       " 'called': 7,\n",
       " 'process': 8,\n",
       " 'about': 9,\n",
       " 'pattern': 10,\n",
       " 'things': 11,\n",
       " 'manipulate': 12,\n",
       " 'computational': 13,\n",
       " 'processes': 14,\n",
       " 'computers': 15,\n",
       " 'evolve': 16,\n",
       " 'computer': 17,\n",
       " 'with': 18,\n",
       " 'people': 19,\n",
       " 'abstract': 20,\n",
       " 'study': 21,\n",
       " 'are': 22,\n",
       " 'they': 23,\n",
       " 'direct': 24,\n",
       " 'spirits': 25,\n",
       " 'programs': 26,\n",
       " 'in': 27,\n",
       " 'other': 28,\n",
       " 'data': 29,\n",
       " 'program': 30,\n",
       " 'effect': 31,\n",
       " 'idea': 32,\n",
       " 'the': 33,\n",
       " 'of': 34,\n",
       " 'we': 35,\n",
       " 'to': 36,\n",
       " 'beings': 37,\n",
       " 'evolution': 38,\n",
       " 'by': 39,\n",
       " 'create': 40,\n",
       " 'our': 41,\n",
       " 'rules': 42}"
      ]
     },
     "execution_count": 9,
     "metadata": {},
     "output_type": "execute_result"
    }
   ],
   "source": [
    "word_to_ix = {word: i for i, word in enumerate(vocab)}\n",
    "word_to_ix"
   ]
  },
  {
   "cell_type": "code",
   "execution_count": 10,
   "metadata": {},
   "outputs": [
    {
     "data": {
      "text/plain": [
       "{0: 'conjure',\n",
       " 1: 'spells',\n",
       " 2: 'that',\n",
       " 3: 'directed',\n",
       " 4: 'as',\n",
       " 5: 'is',\n",
       " 6: 'inhabit',\n",
       " 7: 'called',\n",
       " 8: 'process',\n",
       " 9: 'about',\n",
       " 10: 'pattern',\n",
       " 11: 'things',\n",
       " 12: 'manipulate',\n",
       " 13: 'computational',\n",
       " 14: 'processes',\n",
       " 15: 'computers',\n",
       " 16: 'evolve',\n",
       " 17: 'computer',\n",
       " 18: 'with',\n",
       " 19: 'people',\n",
       " 20: 'abstract',\n",
       " 21: 'study',\n",
       " 22: 'are',\n",
       " 23: 'they',\n",
       " 24: 'direct',\n",
       " 25: 'spirits',\n",
       " 26: 'programs',\n",
       " 27: 'in',\n",
       " 28: 'other',\n",
       " 29: 'data',\n",
       " 30: 'program',\n",
       " 31: 'effect',\n",
       " 32: 'idea',\n",
       " 33: 'the',\n",
       " 34: 'of',\n",
       " 35: 'we',\n",
       " 36: 'to',\n",
       " 37: 'beings',\n",
       " 38: 'evolution',\n",
       " 39: 'by',\n",
       " 40: 'create',\n",
       " 41: 'our',\n",
       " 42: 'rules'}"
      ]
     },
     "execution_count": 10,
     "metadata": {},
     "output_type": "execute_result"
    }
   ],
   "source": [
    "ix_to_word = {i: word for i, word in enumerate(vocab)}\n",
    "ix_to_word"
   ]
  },
  {
   "cell_type": "markdown",
   "metadata": {},
   "source": [
    "### Data bags"
   ]
  },
  {
   "cell_type": "code",
   "execution_count": 11,
   "metadata": {},
   "outputs": [
    {
     "name": "stdout",
     "output_type": "stream",
     "text": [
      "[(['we', 'are', 'to', 'study'], 'about'), (['are', 'about', 'study', 'the'], 'to'), (['about', 'to', 'the', 'idea'], 'study'), (['to', 'study', 'idea', 'of'], 'the'), (['study', 'the', 'of', 'computational'], 'idea')]\n"
     ]
    }
   ],
   "source": [
    "# data - [(context), target]\n",
    "\n",
    "\n",
    "#  \"\"\"We are about to study the idea of a computational process.\n",
    "# Computational processes are abstract beings that inhabit computers.\n",
    "# As they evolve, processes manipulate other abstract things called data.\n",
    "# The evolution of a process is directed by a pattern of rules\n",
    "# called a program. People create programs to direct processes. In effect,\n",
    "# we conjure the spirits of the computer with our spells.\"\"\"\n",
    "\n",
    "\n",
    "data = []\n",
    "for i in range(2, len(words) - 2):\n",
    "    context = [words[i - 2], words[i - 1], words[i + 1], words[i + 2]]\n",
    "    target = words[i]\n",
    "    data.append((context, target))\n",
    "print(data[:5])"
   ]
  },
  {
   "cell_type": "markdown",
   "metadata": {},
   "source": [
    "### Embeddings"
   ]
  },
  {
   "cell_type": "code",
   "execution_count": 12,
   "metadata": {},
   "outputs": [
    {
     "name": "stdout",
     "output_type": "stream",
     "text": [
      "(43, 10)\n"
     ]
    },
    {
     "data": {
      "text/plain": [
       "array([[1.79973652e-01, 1.80153217e-01, 5.10969145e-01, 2.39951547e-01,\n",
       "        7.75714668e-01, 7.72565058e-01, 3.17527170e-01, 4.92488325e-02,\n",
       "        9.87103329e-01, 9.15584737e-03],\n",
       "       [6.44299737e-01, 9.45070444e-02, 7.01505625e-01, 4.24949878e-01,\n",
       "        9.26227255e-01, 7.95578635e-02, 5.34492387e-01, 8.13578822e-01,\n",
       "        2.38609403e-02, 6.15098347e-01],\n",
       "       [4.23915936e-01, 2.28169283e-01, 1.44785930e-01, 6.89050510e-01,\n",
       "        8.67815856e-01, 6.02053701e-01, 4.05715311e-01, 1.87191290e-01,\n",
       "        2.15057497e-04, 6.51717688e-01],\n",
       "       [9.20226747e-01, 8.12674774e-01, 4.21419662e-01, 8.23309292e-01,\n",
       "        4.52140053e-01, 3.25232596e-01, 8.19491682e-01, 5.26000759e-01,\n",
       "        6.08181674e-01, 4.97193254e-02],\n",
       "       [9.10392164e-01, 8.87083591e-01, 1.59259176e-01, 8.90898093e-01,\n",
       "        8.78376503e-01, 2.67181085e-01, 8.81276963e-01, 1.16630414e-01,\n",
       "        9.70653665e-01, 9.69913349e-01],\n",
       "       [1.53438110e-01, 9.17497821e-01, 2.44941787e-01, 6.35363224e-01,\n",
       "        1.37694281e-01, 5.93163139e-01, 6.39042153e-01, 2.91251236e-01,\n",
       "        8.69988931e-01, 5.37037069e-01],\n",
       "       [2.83154112e-01, 2.91013448e-01, 2.36750172e-01, 6.75682205e-01,\n",
       "        7.38151776e-01, 2.85840853e-01, 5.74160288e-01, 1.12177399e-01,\n",
       "        6.59186903e-01, 9.23898451e-01],\n",
       "       [1.76455009e-01, 8.26104296e-01, 8.39795587e-01, 9.36695000e-01,\n",
       "        3.15738364e-01, 5.16825040e-02, 1.53056674e-01, 6.87216738e-01,\n",
       "        9.17354407e-01, 3.44130637e-01],\n",
       "       [6.18711011e-01, 4.89218599e-01, 7.69608945e-01, 6.97996679e-01,\n",
       "        5.82652307e-01, 4.24084637e-01, 9.03794384e-01, 8.83045795e-01,\n",
       "        3.34952477e-01, 3.23507294e-01],\n",
       "       [7.83968893e-01, 2.06375602e-01, 8.79029074e-01, 7.04526706e-01,\n",
       "        7.91884405e-01, 7.64471752e-02, 6.32553661e-02, 4.68161847e-01,\n",
       "        6.72707243e-02, 4.39432527e-01],\n",
       "       [5.88881947e-02, 9.32390688e-01, 5.35554505e-01, 6.09875051e-01,\n",
       "        9.94771955e-01, 5.59329053e-01, 6.01138838e-01, 9.57461880e-01,\n",
       "        3.12922951e-01, 8.36429170e-01],\n",
       "       [5.96894658e-01, 8.82277459e-01, 2.60703651e-01, 2.44753730e-01,\n",
       "        2.99132676e-01, 5.24033654e-01, 1.81400417e-01, 5.40205043e-01,\n",
       "        4.67845782e-01, 1.40789459e-01],\n",
       "       [5.22776148e-02, 6.30924526e-01, 7.03813188e-01, 2.33333420e-01,\n",
       "        9.19788289e-01, 5.90609243e-01, 8.93470186e-01, 3.07409169e-01,\n",
       "        4.02200087e-01, 9.45784792e-01],\n",
       "       [2.58968488e-01, 9.77385676e-01, 3.45398503e-01, 5.20064122e-01,\n",
       "        3.11716844e-01, 3.91900877e-01, 6.19769865e-01, 1.93423044e-01,\n",
       "        1.18687101e-01, 2.56681977e-01],\n",
       "       [7.76305166e-01, 1.18220357e-01, 6.61431445e-01, 8.07565520e-02,\n",
       "        9.14713209e-01, 5.03564072e-01, 8.11713262e-01, 4.96758145e-01,\n",
       "        8.66898955e-01, 1.58282599e-01],\n",
       "       [3.09148187e-01, 4.61076731e-01, 9.67919426e-02, 6.80366563e-01,\n",
       "        6.39792592e-01, 4.29664305e-01, 6.02656673e-01, 2.59388803e-01,\n",
       "        2.98752038e-01, 3.77844743e-01],\n",
       "       [4.12618790e-01, 3.22490154e-01, 6.20311954e-01, 5.63357465e-01,\n",
       "        2.01883703e-01, 4.25188563e-02, 9.98679813e-01, 1.43554829e-01,\n",
       "        8.52012045e-01, 3.49765465e-01],\n",
       "       [4.27354595e-01, 2.98122425e-01, 3.98681726e-01, 6.67203404e-01,\n",
       "        9.64055247e-01, 1.08732927e-01, 9.09835776e-01, 3.90160852e-01,\n",
       "        5.30136271e-01, 6.73213949e-01],\n",
       "       [8.80933183e-01, 7.37661255e-01, 4.09686430e-01, 5.62697281e-01,\n",
       "        2.94447535e-01, 5.00294583e-01, 2.69506005e-01, 5.86135739e-01,\n",
       "        8.49094397e-01, 7.54784001e-01],\n",
       "       [5.42901888e-01, 6.32834102e-01, 4.47478812e-01, 7.11368728e-02,\n",
       "        7.39675348e-01, 5.04958903e-01, 1.64787191e-01, 7.74042945e-01,\n",
       "        9.10883634e-01, 5.37533557e-01],\n",
       "       [3.56165328e-02, 8.26695511e-01, 3.66938972e-01, 2.10471739e-02,\n",
       "        9.24867549e-01, 9.76190926e-01, 7.61893432e-01, 9.94642329e-02,\n",
       "        1.48460366e-01, 9.15469874e-01],\n",
       "       [9.27800063e-01, 9.84292676e-01, 7.27277473e-01, 5.89013273e-01,\n",
       "        9.09914633e-01, 1.77114760e-01, 6.84221005e-01, 7.07927069e-01,\n",
       "        7.34582563e-01, 5.18209082e-01],\n",
       "       [1.00478389e-01, 1.43609279e-01, 4.83850708e-01, 2.86998933e-01,\n",
       "        4.17318765e-01, 2.06333176e-01, 2.58789127e-02, 7.81596002e-01,\n",
       "        8.01538030e-01, 2.87325163e-01],\n",
       "       [3.53783084e-01, 4.38023995e-01, 1.24189408e-01, 7.86700231e-01,\n",
       "        8.75203224e-01, 5.26712795e-01, 6.85368004e-02, 9.22036133e-01,\n",
       "        1.34507251e-01, 4.45991768e-01],\n",
       "       [5.12308385e-01, 5.14871770e-01, 8.53755299e-01, 7.36033650e-01,\n",
       "        9.10260415e-02, 3.77524059e-01, 9.68186012e-03, 5.28406529e-01,\n",
       "        5.19959234e-01, 2.67295032e-01],\n",
       "       [4.37844104e-01, 8.42553560e-01, 1.06847722e-01, 2.92681510e-01,\n",
       "        8.97696522e-02, 9.42838267e-01, 3.65010662e-01, 2.40282163e-01,\n",
       "        9.59465245e-01, 7.46764552e-01],\n",
       "       [9.24219457e-01, 7.34971314e-01, 1.58618631e-01, 5.27727868e-01,\n",
       "        5.77416075e-01, 7.45886988e-01, 6.42288297e-02, 9.09830619e-01,\n",
       "        7.99461517e-01, 4.04725864e-01],\n",
       "       [4.01920698e-01, 3.87256807e-01, 2.64095665e-01, 4.94391331e-01,\n",
       "        6.10572119e-01, 5.68060124e-01, 5.90750393e-01, 7.61623943e-01,\n",
       "        6.17552132e-01, 7.85195308e-01],\n",
       "       [7.27941604e-01, 2.94621688e-01, 8.78117483e-01, 6.04653456e-01,\n",
       "        8.78543092e-01, 9.47822944e-01, 9.41418082e-01, 9.52841078e-01,\n",
       "        5.24438867e-01, 5.92325019e-01],\n",
       "       [4.26488279e-01, 3.32877369e-01, 1.53266306e-01, 2.81015722e-01,\n",
       "        9.12581134e-01, 9.54992985e-02, 6.08796426e-01, 6.70105423e-01,\n",
       "        3.22458720e-01, 5.26331767e-01],\n",
       "       [8.58983869e-02, 1.45288944e-01, 6.02414106e-01, 4.41262376e-01,\n",
       "        5.38056860e-02, 1.19875053e-01, 5.75478908e-01, 2.33619200e-02,\n",
       "        1.02692519e-01, 2.91054160e-02],\n",
       "       [3.74147254e-01, 5.17160952e-01, 9.34281426e-01, 4.62951728e-01,\n",
       "        1.14894287e-01, 1.74700140e-01, 5.92793944e-01, 9.46876217e-01,\n",
       "        5.54739068e-01, 5.23831956e-01],\n",
       "       [4.63933637e-01, 1.93903194e-01, 1.53948646e-01, 4.85107734e-01,\n",
       "        1.01280866e-02, 1.24487851e-01, 3.91853587e-01, 9.11674869e-01,\n",
       "        8.28345510e-01, 4.60771963e-01],\n",
       "       [4.79838481e-01, 7.24817819e-01, 9.78120661e-01, 8.89400683e-01,\n",
       "        8.36719178e-01, 3.44112129e-01, 4.68163550e-02, 6.62998805e-01,\n",
       "        5.45032284e-01, 3.85960659e-01],\n",
       "       [5.98989452e-01, 9.71910481e-01, 8.34716536e-01, 1.40652327e-01,\n",
       "        7.47120526e-02, 8.38995534e-01, 7.79964356e-01, 4.09240248e-01,\n",
       "        5.36001480e-01, 7.37455150e-01],\n",
       "       [7.39167930e-01, 7.71336499e-01, 6.33273109e-01, 2.17796175e-01,\n",
       "        9.89738360e-01, 6.16387088e-01, 7.91284173e-01, 5.14327873e-01,\n",
       "        5.11370597e-01, 5.55798404e-01],\n",
       "       [2.40628195e-01, 2.94896867e-02, 9.54173795e-01, 1.04267204e-01,\n",
       "        1.10047596e-02, 9.11182257e-01, 6.58894281e-01, 4.12794074e-01,\n",
       "        1.76505728e-01, 2.14650110e-01],\n",
       "       [3.94675986e-01, 3.66687676e-03, 2.12426237e-01, 2.95446537e-01,\n",
       "        9.65904518e-01, 6.90159658e-01, 7.75263827e-02, 4.58564436e-01,\n",
       "        4.07599724e-01, 2.73448699e-01],\n",
       "       [1.01884240e-03, 3.73516603e-01, 6.13470756e-01, 4.72629940e-01,\n",
       "        2.00523829e-01, 8.19796342e-01, 4.60188469e-01, 5.80740319e-01,\n",
       "        2.72202136e-01, 2.44643515e-01],\n",
       "       [9.93975745e-01, 2.48563858e-02, 1.06374066e-01, 9.83917481e-01,\n",
       "        3.84994516e-01, 9.71742461e-02, 3.87649603e-01, 8.27645373e-01,\n",
       "        2.37680124e-01, 3.30495530e-01],\n",
       "       [9.39877943e-02, 4.56469205e-01, 3.93748455e-03, 6.25917290e-03,\n",
       "        7.97422177e-01, 2.83459938e-01, 3.72087706e-01, 8.11250359e-01,\n",
       "        9.68815516e-01, 9.64522267e-01],\n",
       "       [3.29201983e-01, 4.93316026e-01, 2.35962166e-01, 2.61264098e-02,\n",
       "        6.60667630e-01, 1.48725372e-01, 7.22636744e-01, 4.02718399e-01,\n",
       "        6.02026255e-01, 7.80317121e-01],\n",
       "       [3.33663009e-01, 1.49059556e-01, 1.37957218e-01, 5.50300061e-01,\n",
       "        4.23638963e-01, 5.54117502e-01, 4.29694509e-01, 2.96189880e-01,\n",
       "        4.19151178e-01, 6.24618037e-01]])"
      ]
     },
     "execution_count": 12,
     "metadata": {},
     "output_type": "execute_result"
    }
   ],
   "source": [
    "embeddings =  np.random.random_sample((vocab_size, embed_dim))\n",
    "print(embeddings.shape)\n",
    "embeddings"
   ]
  },
  {
   "cell_type": "markdown",
   "metadata": {},
   "source": [
    "### Linear Model"
   ]
  },
  {
   "cell_type": "code",
   "execution_count": 13,
   "metadata": {},
   "outputs": [],
   "source": [
    "def linear(m, theta):\n",
    "    w = theta\n",
    "    return m.dot(w)"
   ]
  },
  {
   "cell_type": "markdown",
   "metadata": {},
   "source": [
    "### Log softmax + NLLloss = Cross Entropy"
   ]
  },
  {
   "cell_type": "code",
   "execution_count": 14,
   "metadata": {},
   "outputs": [],
   "source": [
    "def log_softmax(x):\n",
    "    e_x = np.exp(x - np.max(x))\n",
    "    return np.log(e_x / e_x.sum())"
   ]
  },
  {
   "cell_type": "code",
   "execution_count": 15,
   "metadata": {},
   "outputs": [],
   "source": [
    "def NLLLoss(logs, targets):\n",
    "    out = logs[range(len(targets)), targets]\n",
    "    return -out.sum()/len(out)"
   ]
  },
  {
   "cell_type": "code",
   "execution_count": 16,
   "metadata": {},
   "outputs": [],
   "source": [
    "def log_softmax_crossentropy_with_logits(logits,target):\n",
    "\n",
    "    out = np.zeros_like(logits)\n",
    "    out[np.arange(len(logits)),target] = 1\n",
    "    \n",
    "    softmax = np.exp(logits) / np.exp(logits).sum(axis=-1,keepdims=True)\n",
    "    \n",
    "    return (- out + softmax) / logits.shape[0]"
   ]
  },
  {
   "cell_type": "markdown",
   "metadata": {},
   "source": [
    "### Forward function"
   ]
  },
  {
   "cell_type": "code",
   "execution_count": 17,
   "metadata": {},
   "outputs": [],
   "source": [
    "def forward(context_idxs, theta):\n",
    "    m = embeddings[context_idxs].reshape(1, -1)\n",
    "    n = linear(m, theta)\n",
    "    o = log_softmax(n)\n",
    "    return m, n, o"
   ]
  },
  {
   "cell_type": "markdown",
   "metadata": {},
   "source": [
    "### Backward function"
   ]
  },
  {
   "cell_type": "code",
   "execution_count": 18,
   "metadata": {},
   "outputs": [],
   "source": [
    "def backward(preds, theta, target_idxs):\n",
    "    m, n, o = preds\n",
    "    dlog = log_softmax_crossentropy_with_logits(n, target_idxs)\n",
    "    dw = m.T.dot(dlog)\n",
    "    return dw"
   ]
  },
  {
   "cell_type": "markdown",
   "metadata": {},
   "source": [
    "### Optimize function"
   ]
  },
  {
   "cell_type": "code",
   "execution_count": 19,
   "metadata": {},
   "outputs": [],
   "source": [
    "def optimize(theta, grad, lr=0.03):\n",
    "    theta -= grad * lr\n",
    "    return theta"
   ]
  },
  {
   "cell_type": "markdown",
   "metadata": {},
   "source": [
    "### Training function"
   ]
  },
  {
   "cell_type": "code",
   "execution_count": 20,
   "metadata": {},
   "outputs": [],
   "source": [
    "theta = np.random.uniform(-1, 1, (2 * context_size * embed_dim, vocab_size))"
   ]
  },
  {
   "cell_type": "code",
   "execution_count": 21,
   "metadata": {},
   "outputs": [],
   "source": [
    "# [(['we', 'are', 'to', 'study'], 'about'), (['are', 'about', 'study', 'the'], 'to'), (['about', 'to', 'the', 'idea'], 'study'), (['to', 'study', 'idea', 'of'], 'the'), (['study', 'the', 'of', 'computational'], 'idea')]\n",
    "\n",
    "\n",
    "\n",
    "epoch_losses = {}\n",
    "\n",
    "for epoch in range(80):\n",
    "\n",
    "    losses =  []\n",
    "\n",
    "    for context, target in data:\n",
    "        context_idxs = np.array([word_to_ix[w] for w in context])\n",
    "        preds = forward(context_idxs, theta)\n",
    "\n",
    "        target_idxs = np.array([word_to_ix[target]])\n",
    "        loss = NLLLoss(preds[-1], target_idxs)\n",
    "\n",
    "        losses.append(loss)\n",
    "\n",
    "        grad = backward(preds, theta, target_idxs)\n",
    "        theta = optimize(theta, grad, lr=0.03)\n",
    "        \n",
    "     \n",
    "    epoch_losses[epoch] = losses"
   ]
  },
  {
   "cell_type": "markdown",
   "metadata": {},
   "source": [
    "### Plot loss/epoch"
   ]
  },
  {
   "cell_type": "code",
   "execution_count": 22,
   "metadata": {},
   "outputs": [
    {
     "data": {
      "text/plain": [
       "Text(0, 0.5, 'Losses')"
      ]
     },
     "execution_count": 22,
     "metadata": {},
     "output_type": "execute_result"
    },
    {
     "data": {
      "image/png": "[encoded data removed]",
      "text/plain": [
       "<Figure size 432x288 with 1 Axes>"
      ]
     },
     "metadata": {
      "needs_background": "light"
     },
     "output_type": "display_data"
    }
   ],
   "source": [
    "ix = np.arange(0,80)\n",
    "\n",
    "fig = plt.figure()\n",
    "fig.suptitle('Epoch/Losses', fontsize=20)\n",
    "plt.plot(ix,[epoch_losses[i][0] for i in ix])\n",
    "plt.xlabel('Epochs', fontsize=12)\n",
    "plt.ylabel('Losses', fontsize=12)"
   ]
  },
  {
   "cell_type": "markdown",
   "metadata": {},
   "source": [
    "### Predict function"
   ]
  },
  {
   "cell_type": "code",
   "execution_count": 23,
   "metadata": {},
   "outputs": [],
   "source": [
    "def predict(words):\n",
    "    context_idxs = np.array([word_to_ix[w] for w in words])\n",
    "    preds = forward(context_idxs, theta)\n",
    "    word = ix_to_word[np.argmax(preds[-1])]\n",
    "    \n",
    "    return word"
   ]
  },
  {
   "cell_type": "code",
   "execution_count": 24,
   "metadata": {},
   "outputs": [
    {
     "data": {
      "text/plain": [
       "'about'"
      ]
     },
     "execution_count": 24,
     "metadata": {},
     "output_type": "execute_result"
    }
   ],
   "source": [
    "# (['we', 'are', 'to', 'study'], 'about')\n",
    "predict(['we', 'are', 'to', 'study'])"
   ]
  },
  {
   "cell_type": "markdown",
   "metadata": {},
   "source": [
    "### Accuracy"
   ]
  },
  {
   "cell_type": "code",
   "execution_count": 25,
   "metadata": {},
   "outputs": [],
   "source": [
    "def accuracy():\n",
    "    wrong = 0\n",
    "\n",
    "    for context, target in data:\n",
    "        if(predict(context) != target):\n",
    "            wrong += 1\n",
    "            \n",
    "    return (1 - (wrong / len(data)))"
   ]
  },
  {
   "cell_type": "code",
   "execution_count": 26,
   "metadata": {},
   "outputs": [
    {
     "data": {
      "text/plain": [
       "1.0"
      ]
     },
     "execution_count": 26,
     "metadata": {},
     "output_type": "execute_result"
    }
   ],
   "source": [
    "accuracy()"
   ]
  },
  {
   "cell_type": "code",
   "execution_count": null,
   "metadata": {},
   "outputs": [],
   "source": []
  },
  {
   "cell_type": "code",
   "execution_count": null,
   "metadata": {},
   "outputs": [],
   "source": []
  },
  {
   "cell_type": "code",
   "execution_count": null,
   "metadata": {},
   "outputs": [],
   "source": []
  },
  {
   "cell_type": "code",
   "execution_count": null,
   "metadata": {},
   "outputs": [],
   "source": []
  },
  {
   "cell_type": "code",
   "execution_count": null,
   "metadata": {},
   "outputs": [],
   "source": []
  },
  {
   "cell_type": "code",
   "execution_count": null,
   "metadata": {},
   "outputs": [],
   "source": []
  },
  {
   "cell_type": "code",
   "execution_count": null,
   "metadata": {},
   "outputs": [],
   "source": []
  },
  {
   "cell_type": "code",
   "execution_count": null,
   "metadata": {},
   "outputs": [],
   "source": []
  },
  {
   "cell_type": "code",
   "execution_count": null,
   "metadata": {},
   "outputs": [],
   "source": []
  },
  {
   "cell_type": "code",
   "execution_count": null,
   "metadata": {},
   "outputs": [],
   "source": []
  },
  {
   "cell_type": "code",
   "execution_count": null,
   "metadata": {},
   "outputs": [],
   "source": []
  }
 ],
 "metadata": {
  "kernelspec": {
   "display_name": "Python 3.8.8 ('base')",
   "language": "python",
   "name": "python3"
  },
  "language_info": {
   "codemirror_mode": {
    "name": "ipython",
    "version": 3
   },
   "file_extension": ".py",
   "mimetype": "text/x-python",
   "name": "python",
   "nbconvert_exporter": "python",
   "pygments_lexer": "ipython3",
   "version": "3.8.8"
  },
  "vscode": {
   "interpreter": {
    "hash": "53d50ed1839d2292cfd39f0644d59e889da85062f836d8db82f8d3a293c0c3a5"
   }
  }
 },
 "nbformat": 4,
 "nbformat_minor": 4
}
