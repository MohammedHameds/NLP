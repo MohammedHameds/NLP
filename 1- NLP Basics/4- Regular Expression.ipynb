{
 "cells": [
  {
   "cell_type": "markdown",
   "metadata": {},
   "source": [
    "[w3schools python_regex](https://www.w3schools.com/python/python_regex.asp)"
   ]
  },
  {
   "cell_type": "code",
   "execution_count": 89,
   "metadata": {},
   "outputs": [],
   "source": [
    "import re"
   ]
  },
  {
   "cell_type": "code",
   "execution_count": 90,
   "metadata": {},
   "outputs": [],
   "source": [
    "text = '''\n",
    "Cristiano Ronaldo is a Portuguese football player he was born on February 5th 1985 in Santo Antonio\n",
    "his father's name is Jose Dinis Aveiro and his mother's name is Maria Dolores dos Santos Aveiro, \n",
    "his father was a gardener with the municipality and his mother worked as a cook.\n",
    "Ronaldo was expelled from school after assaulting his teacher by throwing up a chair at him \n",
    "he had always been a keen footballer \n",
    "and by the time he was 14 years old he decided to concentrate on becoming a professional footballer \n",
    "In 1995 Cristiano Ronaldo joined the club Nacional located in his hometown of Madeira \n",
    "later he joined one of the biggest clubs in Portugal namely Sporting CP after clearing a trial \n",
    "'''"
   ]
  },
  {
   "cell_type": "code",
   "execution_count": 91,
   "metadata": {},
   "outputs": [],
   "source": [
    "pattern = 'Ronaldo'\n",
    "match = re.search(pattern,text)"
   ]
  },
  {
   "cell_type": "code",
   "execution_count": 92,
   "metadata": {},
   "outputs": [
    {
     "name": "stdout",
     "output_type": "stream",
     "text": [
      "<re.Match object; span=(11, 18), match='Ronaldo'>\n",
      "(11, 18)\n",
      "11 18\n",
      "Ronaldo\n"
     ]
    }
   ],
   "source": [
    "print(match)\n",
    "print(match.span())\n",
    "print(match.start(),match.end())\n",
    "print(text[match.start():match.end()])"
   ]
  },
  {
   "cell_type": "code",
   "execution_count": 93,
   "metadata": {},
   "outputs": [],
   "source": [
    "matchs = re.findall(pattern, text)"
   ]
  },
  {
   "cell_type": "code",
   "execution_count": 94,
   "metadata": {},
   "outputs": [
    {
     "name": "stdout",
     "output_type": "stream",
     "text": [
      "['Ronaldo', 'Ronaldo', 'Ronaldo']\n"
     ]
    }
   ],
   "source": [
    "print(matchs)"
   ]
  },
  {
   "cell_type": "code",
   "execution_count": 95,
   "metadata": {},
   "outputs": [
    {
     "name": "stdout",
     "output_type": "stream",
     "text": [
      "<re.Match object; span=(11, 18), match='Ronaldo'>\n",
      "<re.Match object; span=(280, 287), match='Ronaldo'>\n",
      "<re.Match object; span=(530, 537), match='Ronaldo'>\n"
     ]
    }
   ],
   "source": [
    "for match in re.finditer(pattern,text):\n",
    "    print(match)"
   ]
  },
  {
   "cell_type": "code",
   "execution_count": 100,
   "metadata": {},
   "outputs": [],
   "source": [
    "text = \"My telephone number is 408-555-1234\" \n",
    "# pattern = \"\\d+-\\d+-\\d+\"\n",
    "# pattern = '(\\d+)-(\\d+)-(\\d+)'\n",
    "pattern = '(\\d{3,4}-?){3}'"
   ]
  },
  {
   "cell_type": "code",
   "execution_count": 101,
   "metadata": {},
   "outputs": [
    {
     "name": "stdout",
     "output_type": "stream",
     "text": [
      "<re.Match object; span=(23, 35), match='408-555-1234'>\n"
     ]
    }
   ],
   "source": [
    "phone = re.search(pattern,text)\n",
    "print(phone)"
   ]
  },
  {
   "cell_type": "code",
   "execution_count": 129,
   "metadata": {},
   "outputs": [
    {
     "name": "stdout",
     "output_type": "stream",
     "text": [
      "<re.Match object; span=(23, 35), match='408-555-1234'>\n",
      "408-555-1234\n",
      "408\n"
     ]
    }
   ],
   "source": [
    "text = \"My telephone number is 408-555-1234, My friend number is 408-555-1234\" \n",
    "pattern =(r'(\\d{3})-(\\d{3})-(\\d{4})') \n",
    "\n",
    "result = re.search(pattern, text)\n",
    "\n",
    "print(result)\n",
    "print(result.group())\n",
    "print(result.group(1))"
   ]
  },
  {
   "cell_type": "code",
   "execution_count": 133,
   "metadata": {},
   "outputs": [
    {
     "name": "stdout",
     "output_type": "stream",
     "text": [
      "['408-555-1234', '408-555-1234']\n"
     ]
    }
   ],
   "source": [
    "text = \"My telephone number is 408-555-1234, My friend number is 408-555-1234\" \n",
    "pattern = '(\\d+-\\d+-\\d+)'\n",
    "\n",
    "result = re.findall(pattern, text)\n",
    "\n",
    "print(result)"
   ]
  },
  {
   "cell_type": "code",
   "execution_count": 165,
   "metadata": {},
   "outputs": [
    {
     "name": "stdout",
     "output_type": "stream",
     "text": [
      "Egypt is a big country in the Middle East\n",
      "Pyramids is the most famous in egypt, which was built from more than 7000 years \n",
      "\n"
     ]
    }
   ],
   "source": [
    "text = '''\n",
    "Egypt is a big country in the Middle East.\n",
    "Pyramids is the most famous in egypt, which was built from more than 7000 years. \n",
    "'''\n",
    "pattern = '[^.?!]'\n",
    "\n",
    "result = re.findall(pattern, text)\n",
    "\n",
    "result = ''.join(result)\n",
    "print(result)"
   ]
  }
 ],
 "metadata": {
  "kernelspec": {
   "display_name": "Python 3.8.8 ('base')",
   "language": "python",
   "name": "python3"
  },
  "language_info": {
   "codemirror_mode": {
    "name": "ipython",
    "version": 3
   },
   "file_extension": ".py",
   "mimetype": "text/x-python",
   "name": "python",
   "nbconvert_exporter": "python",
   "pygments_lexer": "ipython3",
   "version": "3.8.8"
  },
  "orig_nbformat": 4,
  "vscode": {
   "interpreter": {
    "hash": "53d50ed1839d2292cfd39f0644d59e889da85062f836d8db82f8d3a293c0c3a5"
   }
  }
 },
 "nbformat": 4,
 "nbformat_minor": 2
}
