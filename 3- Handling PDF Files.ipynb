{
 "cells": [
  {
   "cell_type": "code",
   "execution_count": 47,
   "metadata": {},
   "outputs": [],
   "source": [
    "import PyPDF2"
   ]
  },
  {
   "cell_type": "code",
   "execution_count": 48,
   "metadata": {},
   "outputs": [
    {
     "name": "stdout",
     "output_type": "stream",
     "text": [
      "5\n"
     ]
    }
   ],
   "source": [
    "file = open('data//US_Declaration.pdf', 'rb')   # read binary\n",
    "pdf_reader = PyPDF2.PdfFileReader(file)\n",
    "print(pdf_reader.numPages)\n",
    "page_one = pdf_reader.getPage(0).extract_text()\n",
    "# page_one"
   ]
  },
  {
   "cell_type": "code",
   "execution_count": 49,
   "metadata": {},
   "outputs": [],
   "source": [
    "text = ''\n",
    "for page in range (pdf_reader.numPages):\n",
    "    file_text = pdf_reader.getPage(page).extract_text()\n",
    "    \n",
    "    text += '\\n \\n' + file_text\n",
    "\n",
    "# print(text) \n"
   ]
  },
  {
   "cell_type": "code",
   "execution_count": 50,
   "metadata": {},
   "outputs": [
    {
     "data": {
      "text/plain": [
       "\"Declaration of Independence\\nIN CONGRESS, July 4, 1776.  The unanimous Declaration of the thirteen united States of America,  When in the Course of human events, it becomes necessary for one people to dissolve thepolitical bands which have connected them with another, and to assume among the powers of theearth, the separate and equal station to which the Laws of Nature and of Nature's God entitlethem, a decent respect to the opinions of mankind requires that they should declare the causeswhich impel them to the separation. We hold these truths to be self-evident, that all men are created equal, that they are endowed bytheir Creator with certain unalienable Rights, that among these are Life, Liberty and the pursuitof Happiness.— \\x14That to secure these rights, Governments are instituted among Men, derivingtheir just powers from the consent of the governed,—  \\x14That whenever any Form of Governmentbecomes destructive of these ends, it is the Right of the People to alter or to abolish it, and toinstitute new Government, laying its foundation on such principles and organizing its powers insuch form, as to them shall seem most likely to effect their Safety and Happiness. Prudence,indeed, will dictate that Governments long established should not be changed for light andtransient causes; and accordingly all experience hath shewn, that mankind are more disposed tosuffer, while evils are sufferable, than to right themselves by abolishing the forms to which theyare accustomed. But when a long train of abuses and usurpations, pursuing invariably the sameObject evinces a design to reduce them under absolute Despotism, it is their right, it is their duty,to throw off such Government, and to provide new Guards for their future securit y.— \\x14Such has been the patient sufferance of these Colonies; and such is now the necessity which constrainsthem to alter their former Systems of Government. The history of the present King of GreatBritain is a history of repeated injuries and usurpations, all having in direct object theestablishment of an absolute Tyranny over these States. To prove this, let Facts be submitted to acandid world. He has refused his Assent to Laws, the most wholesome and necessary for thepublic good.He has forbidden his Governors to pass Laws of immediate and pressingimportance, unless suspended in their operation till his Assent should be obtained;and when so suspended, he has utterly neglected to attend to them.He has refused to pass other Laws for the accommodation of large districts ofpeople, unless those people would relinquish the right of Representation in theLegislature, a right inestimable to them and formidable to tyrants only. He has called together legislative bodies at places unusual, uncomfortable, and distantfrom the depository of their public Records, for the sole purpose of fatiguing them intocompliance with his measures.\""
      ]
     },
     "execution_count": 50,
     "metadata": {},
     "output_type": "execute_result"
    }
   ],
   "source": [
    "file = open('data//US_Declaration.pdf','rb')\n",
    "pdf_reader = PyPDF2.PdfFileReader(file)\n",
    "\n",
    "first_page = pdf_reader.getPage(0)\n",
    "first_page.extractText()"
   ]
  },
  {
   "cell_type": "code",
   "execution_count": 51,
   "metadata": {},
   "outputs": [],
   "source": [
    "pdf_writer = PyPDF2.PdfFileWriter()\n",
    "pdf_writer.addPage(first_page)\n",
    "pdf_output = open(\"data//new file1.pdf\",\"wb\")\n",
    "pdf_writer.write(pdf_output)\n",
    "pdf_output.close()"
   ]
  },
  {
   "cell_type": "code",
   "execution_count": 52,
   "metadata": {},
   "outputs": [],
   "source": [
    "file = PyPDF2.PdfFileReader('data//US_Declaration.pdf','rb')\n",
    "\n",
    "pdf_merger = PyPDF2.PdfFileMerger()\n",
    "pdf_merger.append(file)\n",
    "pdf_merger.append(file)\n",
    "\n",
    "pdf_merger.write('data//new_file2.pdf')"
   ]
  },
  {
   "cell_type": "code",
   "execution_count": 53,
   "metadata": {},
   "outputs": [],
   "source": [
    "from fpdf import FPDF"
   ]
  },
  {
   "cell_type": "code",
   "execution_count": 54,
   "metadata": {},
   "outputs": [],
   "source": [
    "pdf = FPDF()\n",
    " \n",
    "pdf.add_page()\n",
    "pdf.set_font(\"Arial\", size = 15)"
   ]
  },
  {
   "cell_type": "code",
   "execution_count": 55,
   "metadata": {},
   "outputs": [],
   "source": [
    "text = 'Create PDF file with text.'\n",
    "\n",
    "pdf.cell(200, 10, txt = text,\n",
    "         ln = 1, align = 'C')\n",
    " \n",
    "# add another cell\n",
    "pdf.cell(200, 10, txt = \"Working with pdf files\",\n",
    "         ln = 2, align = 'C')\n",
    "# add another cell\n",
    "\n",
    " \n",
    "# save the pdf with name .pdf\n",
    "pdf.output(\"data//new_file3.pdf\")  \n",
    "pdf.close()"
   ]
  }
 ],
 "metadata": {
  "kernelspec": {
   "display_name": "Python 3.8.8 ('base')",
   "language": "python",
   "name": "python3"
  },
  "language_info": {
   "codemirror_mode": {
    "name": "ipython",
    "version": 3
   },
   "file_extension": ".py",
   "mimetype": "text/x-python",
   "name": "python",
   "nbconvert_exporter": "python",
   "pygments_lexer": "ipython3",
   "version": "3.8.8"
  },
  "orig_nbformat": 4,
  "vscode": {
   "interpreter": {
    "hash": "53d50ed1839d2292cfd39f0644d59e889da85062f836d8db82f8d3a293c0c3a5"
   }
  }
 },
 "nbformat": 4,
 "nbformat_minor": 2
}
