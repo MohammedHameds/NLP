{
 "cells": [
  {
   "cell_type": "code",
   "execution_count": 59,
   "metadata": {},
   "outputs": [],
   "source": [
    "import spacy"
   ]
  },
  {
   "cell_type": "code",
   "execution_count": 60,
   "metadata": {},
   "outputs": [],
   "source": [
    "text = 'Albert Einstein was a German-born theoretical physicist, widely acknowledged to be one of the greatest and most influential physicists of all time. Einstein is best known for developing the theory of relativity, but he also made important contributions to the development of the theory of quantum mechanics.'"
   ]
  },
  {
   "cell_type": "code",
   "execution_count": 61,
   "metadata": {},
   "outputs": [],
   "source": [
    "nlp = spacy.load('en_core_web_lg')"
   ]
  },
  {
   "cell_type": "code",
   "execution_count": 62,
   "metadata": {},
   "outputs": [],
   "source": [
    "doc = nlp(text)"
   ]
  },
  {
   "cell_type": "code",
   "execution_count": 63,
   "metadata": {},
   "outputs": [
    {
     "name": "stdout",
     "output_type": "stream",
     "text": [
      "Wrod is: Albert\n",
      "POS is : 96 --- PROPN --- proper noun\n",
      "DEP is : 7037928807040764755 --- compound --- compound\n",
      "TAG is : 15794550382381185553 --- NNP --- noun, proper singular\n",
      "********************\n",
      "Wrod is: Einstein\n",
      "POS is : 96 --- PROPN --- proper noun\n",
      "DEP is : 429 --- nsubj --- nominal subject\n",
      "TAG is : 15794550382381185553 --- NNP --- noun, proper singular\n",
      "********************\n",
      "Wrod is: was\n",
      "POS is : 87 --- AUX --- auxiliary\n",
      "DEP is : 8206900633647566924 --- ROOT --- root\n",
      "TAG is : 17109001835818727656 --- VBD --- verb, past tense\n",
      "********************\n",
      "Wrod is: a\n",
      "POS is : 90 --- DET --- determiner\n",
      "DEP is : 415 --- det --- determiner\n",
      "TAG is : 15267657372422890137 --- DT --- determiner\n",
      "********************\n",
      "Wrod is: German\n",
      "POS is : 96 --- PROPN --- proper noun\n",
      "DEP is : 428 --- npadvmod --- noun phrase as adverbial modifier\n",
      "TAG is : 15794550382381185553 --- NNP --- noun, proper singular\n",
      "********************\n"
     ]
    }
   ],
   "source": [
    "for i in doc[:5] :\n",
    "    print('Wrod is:', i.text)\n",
    "    print('POS is :' , i.pos , '---', i.pos_ , '---' , spacy.explain(i.pos_)) \n",
    "    print('DEP is :' , i.dep , '---', i.dep_ , '---' , spacy.explain(i.dep_)) \n",
    "    print('TAG is :' , i.tag , '---', i.tag_ , '---' , spacy.explain(i.tag_))  \n",
    "    \n",
    "    print('*'*20)"
   ]
  },
  {
   "cell_type": "code",
   "execution_count": 64,
   "metadata": {},
   "outputs": [
    {
     "name": "stdout",
     "output_type": "stream",
     "text": [
      "read       VERB     VBP    verb, non-3rd person singular present\n"
     ]
    }
   ],
   "source": [
    "text_sample = nlp(u'I read book now.') \n",
    "r = text_sample[1] \n",
    "print(f'{r.text:{10}} {r.pos_:{8}} {r.tag_:{6}} {spacy.explain(r.tag_)}')"
   ]
  },
  {
   "cell_type": "code",
   "execution_count": 65,
   "metadata": {},
   "outputs": [
    {
     "name": "stdout",
     "output_type": "stream",
     "text": [
      "84. ADJ  : 5\n",
      "85. ADP  : 7\n",
      "86. ADV  : 4\n",
      "87. AUX  : 3\n",
      "89. CCONJ: 2\n",
      "90. DET  : 6\n",
      "92. NOUN : 9\n",
      "93. NUM  : 1\n",
      "94. PART : 1\n",
      "95. PRON : 1\n",
      "96. PROPN: 4\n",
      "97. PUNCT: 5\n",
      "100. VERB : 5\n"
     ]
    }
   ],
   "source": [
    "POS_counts = doc.count_by(spacy.attrs.POS) \n",
    "\n",
    "\n",
    "for k,v in sorted(POS_counts.items()): \n",
    " print(f'{k}. {doc.vocab[k].text:{5}}: {v}')"
   ]
  },
  {
   "cell_type": "code",
   "execution_count": 66,
   "metadata": {},
   "outputs": [],
   "source": [
    "import nltk\n",
    "from nltk.tokenize import word_tokenize\n",
    "from nltk import pos_tag"
   ]
  },
  {
   "cell_type": "code",
   "execution_count": 67,
   "metadata": {},
   "outputs": [
    {
     "data": {
      "text/plain": [
       "'Albert Einstein was a German-born theoretical physicist, widely acknowledged to be one of the greatest and most influential physicists of all time. Einstein is best known for developing the theory of relativity, but he also made important contributions to the development of the theory of quantum mechanics.'"
      ]
     },
     "execution_count": 67,
     "metadata": {},
     "output_type": "execute_result"
    }
   ],
   "source": [
    "text"
   ]
  },
  {
   "cell_type": "code",
   "execution_count": 68,
   "metadata": {},
   "outputs": [],
   "source": [
    "wtk = [word for word in word_tokenize(text)]\n",
    "tags =pos_tag(wtk) \n"
   ]
  },
  {
   "cell_type": "code",
   "execution_count": 69,
   "metadata": {},
   "outputs": [
    {
     "name": "stdout",
     "output_type": "stream",
     "text": [
      "Wrod :Albert --- Tag :NNP noun, proper singular\n",
      "********************\n",
      "Wrod :Einstein --- Tag :NNP noun, proper singular\n",
      "********************\n",
      "Wrod :was --- Tag :VBD verb, past tense\n",
      "********************\n",
      "Wrod :a --- Tag :DT determiner\n",
      "********************\n",
      "Wrod :German-born --- Tag :JJ adjective (English), other noun-modifier (Chinese)\n",
      "********************\n",
      "Wrod :theoretical --- Tag :JJ adjective (English), other noun-modifier (Chinese)\n",
      "********************\n",
      "Wrod :physicist --- Tag :NN noun, singular or mass\n",
      "********************\n",
      "Wrod :, --- Tag :, punctuation mark, comma\n",
      "********************\n",
      "Wrod :widely --- Tag :RB adverb\n",
      "********************\n",
      "Wrod :acknowledged --- Tag :VBD verb, past tense\n",
      "********************\n"
     ]
    }
   ],
   "source": [
    "for i,j in tags[:10] :\n",
    "    print(f'Wrod :{i}' , '---' , f'Tag :{j}' , spacy.explain(j) )\n",
    "    print('*'*20)"
   ]
  }
 ],
 "metadata": {
  "kernelspec": {
   "display_name": "Python 3.8.8 ('base')",
   "language": "python",
   "name": "python3"
  },
  "language_info": {
   "codemirror_mode": {
    "name": "ipython",
    "version": 3
   },
   "file_extension": ".py",
   "mimetype": "text/x-python",
   "name": "python",
   "nbconvert_exporter": "python",
   "pygments_lexer": "ipython3",
   "version": "3.8.8"
  },
  "orig_nbformat": 4,
  "vscode": {
   "interpreter": {
    "hash": "53d50ed1839d2292cfd39f0644d59e889da85062f836d8db82f8d3a293c0c3a5"
   }
  }
 },
 "nbformat": 4,
 "nbformat_minor": 2
}
