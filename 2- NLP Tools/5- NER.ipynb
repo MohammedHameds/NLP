{
 "cells": [
  {
   "cell_type": "code",
   "execution_count": 14,
   "metadata": {},
   "outputs": [],
   "source": [
    "import spacy\n",
    "nlp = spacy.load('en_core_web_lg')"
   ]
  },
  {
   "cell_type": "code",
   "execution_count": 15,
   "metadata": {},
   "outputs": [],
   "source": [
    "text = 'The Great Pyramid of Giza is the largest Egyptian pyramid and the tomb of Fourth Dynasty pharaoh Khufu.'"
   ]
  },
  {
   "cell_type": "code",
   "execution_count": 16,
   "metadata": {},
   "outputs": [
    {
     "name": "stdout",
     "output_type": "stream",
     "text": [
      "The Great Pyramid of Giza\n",
      "387\n",
      "EVENT\n",
      "Named hurricanes, battles, wars, sports events, etc.\n",
      "--------------------\n",
      "Egyptian\n",
      "381\n",
      "NORP\n",
      "Nationalities or religious or political groups\n",
      "--------------------\n"
     ]
    }
   ],
   "source": [
    "doc = nlp(text)\n",
    "\n",
    "for i in doc.ents : \n",
    "    print(i.text)\n",
    "    print(i.label)\n",
    "    print(i.label_)\n",
    "    print(spacy.explain(i.label_))\n",
    "    print('-'*20)\n",
    "    "
   ]
  },
  {
   "cell_type": "code",
   "execution_count": 17,
   "metadata": {},
   "outputs": [],
   "source": [
    "def show_ents(doc): \n",
    " if doc.ents: \n",
    "  for ent in doc.ents: \n",
    "    print(ent.text+' - '+ent.label_+' - '+str(spacy.explain(ent.label_))) \n",
    "    print('-----------------------------') \n",
    " else: \n",
    "    print('No named entities found.')"
   ]
  },
  {
   "cell_type": "code",
   "execution_count": 18,
   "metadata": {},
   "outputs": [
    {
     "name": "stdout",
     "output_type": "stream",
     "text": [
      "The Great Pyramid of Giza - EVENT - Named hurricanes, battles, wars, sports events, etc.\n",
      "-----------------------------\n",
      "Egyptian - NORP - Nationalities or religious or political groups\n",
      "-----------------------------\n"
     ]
    }
   ],
   "source": [
    "show_ents(doc)"
   ]
  },
  {
   "cell_type": "code",
   "execution_count": 19,
   "metadata": {},
   "outputs": [],
   "source": [
    "doc =nlp('CPRO to build a U.K. factory for $6 million')"
   ]
  },
  {
   "cell_type": "code",
   "execution_count": 20,
   "metadata": {},
   "outputs": [
    {
     "name": "stdout",
     "output_type": "stream",
     "text": [
      "U.K. - GPE - Countries, cities, states\n",
      "-----------------------------\n",
      "$6 million - MONEY - Monetary values, including unit\n",
      "-----------------------------\n"
     ]
    }
   ],
   "source": [
    "show_ents(doc)"
   ]
  },
  {
   "cell_type": "code",
   "execution_count": 21,
   "metadata": {},
   "outputs": [],
   "source": [
    "from spacy.tokens import Span \n",
    "doc =nlp('CPRO to build a U.K. factory for $6 million')"
   ]
  },
  {
   "cell_type": "code",
   "execution_count": 22,
   "metadata": {},
   "outputs": [],
   "source": [
    "ORG = doc.vocab.strings[u'ORG'] "
   ]
  },
  {
   "cell_type": "code",
   "execution_count": 23,
   "metadata": {},
   "outputs": [],
   "source": [
    "new_ent = Span(doc, 0, 1, label=ORG) \n",
    "\n",
    "doc =nlp('CPRO to build a U.K. factory for $6 million') \n",
    "doc.ents = list(doc.ents) + [new_ent]"
   ]
  },
  {
   "cell_type": "code",
   "execution_count": 24,
   "metadata": {},
   "outputs": [
    {
     "name": "stdout",
     "output_type": "stream",
     "text": [
      "CPRO - ORG - Companies, agencies, institutions, etc.\n",
      "-----------------------------\n",
      "U.K. - GPE - Countries, cities, states\n",
      "-----------------------------\n",
      "$6 million - MONEY - Monetary values, including unit\n",
      "-----------------------------\n"
     ]
    }
   ],
   "source": [
    "show_ents(doc) "
   ]
  },
  {
   "cell_type": "code",
   "execution_count": 25,
   "metadata": {},
   "outputs": [
    {
     "name": "stdout",
     "output_type": "stream",
     "text": [
      "Autonomous cars\n",
      "cars\n",
      "nsubj\n",
      "nominal subject\n",
      "3342607623747562680\n",
      "NP\n",
      "noun phrase\n",
      "0\n",
      "2\n",
      "0\n",
      "15\n",
      "----------------------------------------------\n",
      "insurance liability\n",
      "liability\n",
      "dobj\n",
      "direct object\n",
      "3342607623747562680\n",
      "NP\n",
      "noun phrase\n",
      "3\n",
      "5\n",
      "22\n",
      "41\n",
      "----------------------------------------------\n",
      "manufacturers\n",
      "manufacturers\n",
      "pobj\n",
      "object of preposition\n",
      "3342607623747562680\n",
      "NP\n",
      "noun phrase\n",
      "6\n",
      "7\n",
      "49\n",
      "62\n",
      "----------------------------------------------\n"
     ]
    }
   ],
   "source": [
    "doc = nlp(u\"Autonomous cars shift insurance liability toward manufacturers.\") \n",
    "for chunk in doc.noun_chunks: \n",
    " print(chunk.text) \n",
    " print(chunk.root.text) \n",
    " print(chunk.root.dep_) \n",
    " print(spacy.explain(chunk.root.dep_)) \n",
    " print(chunk.label) \n",
    " print(chunk.label_) \n",
    " print(spacy.explain(chunk.label_)) \n",
    " print(chunk.start) \n",
    " print(chunk.end) \n",
    " print(chunk.start_char) \n",
    " print(chunk.end_char) \n",
    " print('----------------------------------------------')"
   ]
  },
  {
   "cell_type": "code",
   "execution_count": 26,
   "metadata": {},
   "outputs": [],
   "source": [
    "from nltk.tokenize import  word_tokenize\n",
    "from nltk import pos_tag\n",
    "from nltk import ne_chunk\n",
    "from nltk.chunk import tree2conlltags,conlltags2tree"
   ]
  },
  {
   "cell_type": "code",
   "execution_count": 29,
   "metadata": {},
   "outputs": [
    {
     "name": "stdout",
     "output_type": "stream",
     "text": [
      "PERSON :\n",
      " ['Children', 'Eastern', 'Adult', 'Victims', 'Female', 'Malaria', 'Pacific', 'Male', 'Mosquitoes', 'Saint', 'Yellow', 'Dengue', 'Mosquito']\n",
      "\n",
      "ORGANIZATION :\n",
      " ['Central', 'DDT', 'Pacific', 'World']\n",
      "\n",
      "GPE :\n",
      " ['Africa', 'India', 'Asia', 'United', 'Middle', 'Japanese', 'South', 'Asian']\n",
      "\n",
      "LOCATION :\n",
      " ['Caribbean', 'West']\n"
     ]
    }
   ],
   "source": [
    "txt=open('data//mosquitoes.txt','r').read()\n",
    "tags=pos_tag(word_tokenize(txt))\n",
    "\n",
    "chunck = tree2conlltags(ne_chunk(tags))\n",
    "\n",
    "PERSON = list(set([i[0] for i in chunck if i[2] == 'B-PERSON' ]))\n",
    "ORGANIZATION = list(set([i[0] for i in chunck if i[2] == 'B-ORGANIZATION' ]))\n",
    "GPE = list(set( [i[0] for i in chunck if i[2] == 'B-GPE' ]))\n",
    "LOCATION =  list(set([i[0] for i in chunck if i[2] == 'B-LOCATION' ]))\n",
    "# conlltags2tree (chunck).draw()\n",
    "\n",
    "print('PERSON :\\n',PERSON)\n",
    "print('\\nORGANIZATION :\\n',ORGANIZATION)\n",
    "print('\\nGPE :\\n',GPE)\n",
    "print('\\nLOCATION :\\n',LOCATION)"
   ]
  }
 ],
 "metadata": {
  "kernelspec": {
   "display_name": "Python 3.8.8 ('base')",
   "language": "python",
   "name": "python3"
  },
  "language_info": {
   "codemirror_mode": {
    "name": "ipython",
    "version": 3
   },
   "file_extension": ".py",
   "mimetype": "text/x-python",
   "name": "python",
   "nbconvert_exporter": "python",
   "pygments_lexer": "ipython3",
   "version": "3.8.8"
  },
  "orig_nbformat": 4,
  "vscode": {
   "interpreter": {
    "hash": "53d50ed1839d2292cfd39f0644d59e889da85062f836d8db82f8d3a293c0c3a5"
   }
  }
 },
 "nbformat": 4,
 "nbformat_minor": 2
}
