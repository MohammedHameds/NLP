{
 "cells": [
  {
   "cell_type": "code",
   "execution_count": 66,
   "metadata": {},
   "outputs": [],
   "source": [
    "import spacy \n",
    "from nltk.tokenize import sent_tokenize\n",
    "from spacy.language import Language"
   ]
  },
  {
   "cell_type": "code",
   "execution_count": 67,
   "metadata": {},
   "outputs": [],
   "source": [
    "text = '''\n",
    "Egypt is a country in North Africa.Most of Egypt is desert.The longest river in the world,the Nile,runs through Egypt providing areas of very lush green.\"Lush\" means full and healthy. Egypt is often thought of as one of the longest inhabited countries in the world.'''"
   ]
  },
  {
   "cell_type": "code",
   "execution_count": 68,
   "metadata": {},
   "outputs": [],
   "source": [
    "nlp = spacy.load('en_core_web_lg')\n",
    "doc = nlp(text)"
   ]
  },
  {
   "cell_type": "code",
   "execution_count": 69,
   "metadata": {},
   "outputs": [
    {
     "name": "stdout",
     "output_type": "stream",
     "text": [
      "\n",
      "Egypt is a country in North Africa.\n",
      "--------------------\n",
      "Most of Egypt is desert.\n",
      "--------------------\n",
      "The longest river in the world,the Nile,runs through Egypt providing areas of very lush green.\"Lush\" means full and healthy.\n",
      "--------------------\n",
      "Egypt is often thought of as one of the longest inhabited countries in the world.\n",
      "--------------------\n"
     ]
    }
   ],
   "source": [
    "for sent in doc.sents :\n",
    "    print(sent)\n",
    "    print('-'*20)"
   ]
  },
  {
   "cell_type": "code",
   "execution_count": 70,
   "metadata": {},
   "outputs": [
    {
     "name": "stdout",
     "output_type": "stream",
     "text": [
      "False\n",
      "\n",
      "Egypt is a country in North Africa.\n"
     ]
    }
   ],
   "source": [
    "print(sent[10].is_sent_start) \n",
    "print(list(doc.sents)[0])"
   ]
  },
  {
   "cell_type": "code",
   "execution_count": 71,
   "metadata": {},
   "outputs": [
    {
     "name": "stdout",
     "output_type": "stream",
     "text": [
      "\n",
      "Egypt is a country in North Africa.\n",
      "Most of Egypt is desert.\n",
      "The longest river in the world,the Nile,runs through Egypt providing areas of very lush green.\"Lush\" means full and healthy.\n",
      "Egypt is often thought of as one of the longest inhabited countries in the world.\n"
     ]
    }
   ],
   "source": [
    "stk = [sent for sent in list(doc.sents)]\n",
    "for i in stk : print(i)"
   ]
  },
  {
   "cell_type": "code",
   "execution_count": 72,
   "metadata": {},
   "outputs": [
    {
     "data": {
      "text/plain": [
       "[('tok2vec', <spacy.pipeline.tok2vec.Tok2Vec at 0x251989aefa0>),\n",
       " ('tagger', <spacy.pipeline.tagger.Tagger at 0x25152ba6d60>),\n",
       " ('parser', <spacy.pipeline.dep_parser.DependencyParser at 0x251ccbb5120>),\n",
       " ('attribute_ruler',\n",
       "  <spacy.pipeline.attributeruler.AttributeRuler at 0x251622bc500>),\n",
       " ('lemmatizer', <spacy.lang.en.lemmatizer.EnglishLemmatizer at 0x251622cee00>),\n",
       " ('ner', <spacy.pipeline.ner.EntityRecognizer at 0x251ccbb55f0>)]"
      ]
     },
     "execution_count": 72,
     "metadata": {},
     "output_type": "execute_result"
    }
   ],
   "source": [
    "nlp.pipeline"
   ]
  },
  {
   "cell_type": "code",
   "execution_count": 73,
   "metadata": {},
   "outputs": [],
   "source": [
    "# nlp.analyze_pipes(pretty= True)"
   ]
  },
  {
   "cell_type": "code",
   "execution_count": 74,
   "metadata": {},
   "outputs": [
    {
     "data": {
      "text/plain": [
       "['tok2vec', 'tagger', 'parser', 'attribute_ruler', 'lemmatizer', 'ner']"
      ]
     },
     "execution_count": 74,
     "metadata": {},
     "output_type": "execute_result"
    }
   ],
   "source": [
    "nlp.pipe_names"
   ]
  },
  {
   "cell_type": "code",
   "execution_count": 75,
   "metadata": {},
   "outputs": [],
   "source": [
    "@Language.component(\"segm\")\n",
    "def custom_segm(doc):\n",
    " for token in doc[:-1]: \n",
    "  if token.text == ',': \n",
    "   doc[token.i+1].is_sent_start = True \n",
    " return doc"
   ]
  },
  {
   "cell_type": "code",
   "execution_count": 76,
   "metadata": {},
   "outputs": [
    {
     "data": {
      "text/plain": [
       "<function __main__.custom_segm(doc)>"
      ]
     },
     "execution_count": 76,
     "metadata": {},
     "output_type": "execute_result"
    }
   ],
   "source": [
    "Language.component(\"segm\" , func = custom_segm)\n",
    "# nlp = spacy.blank(\"en\")\n",
    "nlp.add_pipe(\"segm\" , before = 'parser')"
   ]
  },
  {
   "cell_type": "code",
   "execution_count": 77,
   "metadata": {},
   "outputs": [
    {
     "name": "stdout",
     "output_type": "stream",
     "text": [
      "['tok2vec', 'tagger', 'segm', 'parser', 'attribute_ruler', 'lemmatizer', 'ner']\n"
     ]
    }
   ],
   "source": [
    "print(nlp.pipe_names)"
   ]
  },
  {
   "cell_type": "code",
   "execution_count": 80,
   "metadata": {},
   "outputs": [
    {
     "name": "stdout",
     "output_type": "stream",
     "text": [
      "\n",
      "Egypt is a country in North Africa.\n",
      "Most of Egypt is desert.\n",
      "The longest river in the world,\n",
      "the Nile,\n",
      "runs through Egypt providing areas of very lush green.\"Lush\" means full and healthy.\n",
      "Egypt is often thought of as one of the longest inhabited countries in the world.\n"
     ]
    }
   ],
   "source": [
    "doc2 = nlp(text)\n",
    "\n",
    "for i in list(doc2.sents):\n",
    "    print(i)"
   ]
  },
  {
   "cell_type": "code",
   "execution_count": 81,
   "metadata": {},
   "outputs": [
    {
     "name": "stdout",
     "output_type": "stream",
     "text": [
      "\n",
      "Egypt is a country in North Africa.Most of Egypt is desert.The longest river in the world,the Nile,runs through Egypt providing areas of very lush green.\n",
      "\"Lush\" means full and healthy.\n",
      "Egypt is often thought of as one of the longest inhabited countries in the world.\n"
     ]
    }
   ],
   "source": [
    "stk = [sent for sent in sent_tokenize(text)]\n",
    "\n",
    "for i in stk :\n",
    "    print(i)"
   ]
  }
 ],
 "metadata": {
  "kernelspec": {
   "display_name": "Python 3.8.8 ('base')",
   "language": "python",
   "name": "python3"
  },
  "language_info": {
   "codemirror_mode": {
    "name": "ipython",
    "version": 3
   },
   "file_extension": ".py",
   "mimetype": "text/x-python",
   "name": "python",
   "nbconvert_exporter": "python",
   "pygments_lexer": "ipython3",
   "version": "3.8.8"
  },
  "orig_nbformat": 4,
  "vscode": {
   "interpreter": {
    "hash": "53d50ed1839d2292cfd39f0644d59e889da85062f836d8db82f8d3a293c0c3a5"
   }
  }
 },
 "nbformat": 4,
 "nbformat_minor": 2
}
