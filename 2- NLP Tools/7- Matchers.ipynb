{
 "cells": [
  {
   "cell_type": "code",
   "execution_count": 44,
   "metadata": {},
   "outputs": [],
   "source": [
    "import spacy \n",
    "from spacy.matcher import Matcher\n",
    "nlp = spacy.load('en_core_web_lg')"
   ]
  },
  {
   "cell_type": "code",
   "execution_count": 45,
   "metadata": {},
   "outputs": [],
   "source": [
    "matcher = Matcher(nlp.vocab)"
   ]
  },
  {
   "cell_type": "code",
   "execution_count": 46,
   "metadata": {},
   "outputs": [],
   "source": [
    "pattern1 = [{'LOWER': 'solarpower'}] \n",
    "pattern2 = [{'LOWER': 'solar'}, {'LOWER': 'power'}] \n",
    "pattern3 = [{'LOWER': 'solar'}, {'IS_PUNCT': True ,'OP' : '*'}, {'LOWER': 'power'}] \n",
    "patterns = [pattern1, pattern2 , pattern3 ]"
   ]
  },
  {
   "cell_type": "code",
   "execution_count": 47,
   "metadata": {},
   "outputs": [],
   "source": [
    "matcher.add('SolarPower', patterns= patterns) "
   ]
  },
  {
   "cell_type": "code",
   "execution_count": 48,
   "metadata": {},
   "outputs": [],
   "source": [
    "doc = nlp('The Solar Power industry continues to grow as demand for solarpower increases. Solar-power cars are gaining popularity.') "
   ]
  },
  {
   "cell_type": "code",
   "execution_count": 49,
   "metadata": {},
   "outputs": [
    {
     "data": {
      "text/plain": [
       "The Solar Power industry continues to grow as demand for solarpower increases. Solar-power cars are gaining popularity."
      ]
     },
     "execution_count": 49,
     "metadata": {},
     "output_type": "execute_result"
    }
   ],
   "source": [
    "doc"
   ]
  },
  {
   "cell_type": "code",
   "execution_count": 50,
   "metadata": {},
   "outputs": [
    {
     "name": "stdout",
     "output_type": "stream",
     "text": [
      "Word ID 8656102463236116519 , starts at 1 & ends at 3 , and word is Solar Power\n",
      "Word ID 8656102463236116519 , starts at 10 & ends at 11 , and word is solarpower\n",
      "Word ID 8656102463236116519 , starts at 13 & ends at 16 , and word is Solar-power\n"
     ]
    }
   ],
   "source": [
    "found_matches = matcher(doc) \n",
    "for a,b,c in found_matches : \n",
    " print(f'Word ID {a} , starts at {b} & ends at {c} , and word is {doc[b:c]}') "
   ]
  },
  {
   "cell_type": "code",
   "execution_count": 51,
   "metadata": {},
   "outputs": [],
   "source": [
    "from spacy.matcher import PhraseMatcher \n",
    "matcher = PhraseMatcher(nlp.vocab) "
   ]
  },
  {
   "cell_type": "code",
   "execution_count": 52,
   "metadata": {},
   "outputs": [],
   "source": [
    "with open('data//reaganomics.txt') as f: \n",
    "      doc = nlp(f.read()) \n"
   ]
  },
  {
   "cell_type": "code",
   "execution_count": 53,
   "metadata": {},
   "outputs": [],
   "source": [
    "phrase_list = ['voodoo economics', 'supply-side economics', 'trickle-down economics', \n",
    "'free-market economics'] \n",
    "phrase_patterns = [nlp(text) for text in phrase_list]"
   ]
  },
  {
   "cell_type": "code",
   "execution_count": 54,
   "metadata": {},
   "outputs": [],
   "source": [
    "matcher.add('VoodooEconomics', None, *phrase_patterns) "
   ]
  },
  {
   "cell_type": "code",
   "execution_count": 55,
   "metadata": {},
   "outputs": [],
   "source": [
    "matches = matcher(doc)"
   ]
  },
  {
   "cell_type": "code",
   "execution_count": 56,
   "metadata": {},
   "outputs": [
    {
     "name": "stdout",
     "output_type": "stream",
     "text": [
      "Word ID 3473369816841043438 , starts at 41 & ends at 45 , and word is commonly associated with supply-side economics, referred to\n",
      "Word ID 3473369816841043438 , starts at 49 & ends at 53 , and word is referred to as trickle-down economics or voodoo economics\n",
      "Word ID 3473369816841043438 , starts at 54 & ends at 56 , and word is down economics or voodoo economics by political opponents\n",
      "Word ID 3473369816841043438 , starts at 61 & ends at 65 , and word is opponents, and free-market economics by political advocates\n",
      "Word ID 3473369816841043438 , starts at 673 & ends at 677 , and word is following from the supply-side economics movement, which\n",
      "Word ID 3473369816841043438 , starts at 2987 & ends at 2991 , and word is known as \"trickle-down economics\", due\n"
     ]
    }
   ],
   "source": [
    "for a,b,c in matches : \n",
    " print(f'Word ID {a} , starts at {b} & ends at {c} , and word is {doc[b-3:c+3]}') "
   ]
  }
 ],
 "metadata": {
  "kernelspec": {
   "display_name": "Python 3.8.8 ('base')",
   "language": "python",
   "name": "python3"
  },
  "language_info": {
   "codemirror_mode": {
    "name": "ipython",
    "version": 3
   },
   "file_extension": ".py",
   "mimetype": "text/x-python",
   "name": "python",
   "nbconvert_exporter": "python",
   "pygments_lexer": "ipython3",
   "version": "3.8.8"
  },
  "orig_nbformat": 4,
  "vscode": {
   "interpreter": {
    "hash": "53d50ed1839d2292cfd39f0644d59e889da85062f836d8db82f8d3a293c0c3a5"
   }
  }
 },
 "nbformat": 4,
 "nbformat_minor": 2
}
