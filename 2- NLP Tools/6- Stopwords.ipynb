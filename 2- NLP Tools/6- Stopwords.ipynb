{
 "cells": [
  {
   "cell_type": "code",
   "execution_count": 1,
   "metadata": {},
   "outputs": [],
   "source": [
    "import spacy \n",
    "nlp = spacy.load('en_core_web_lg')"
   ]
  },
  {
   "cell_type": "code",
   "execution_count": 3,
   "metadata": {},
   "outputs": [
    {
     "name": "stdout",
     "output_type": "stream",
     "text": [
      "{'my', \"'ve\", 'could', 'do', 'afterwards', 'yourselves', 'ca', 'own', 'others', \"'s\", 'we', 'wherever', 'does', 'since', 'no', 'was', 'because', 'formerly', 'more', 'well', 'call', 'latterly', 'whom', 'same', 'show', 'your', 'whence', 'somehow', 'become', 'among', 'for', 'none', 'all', 'else', 'hereafter', 'when', 'below', 'just', 'except', 'almost', 'done', 'forty', 'yourself', 'former', 'to', 'three', 'first', 'fifty', 'make', 'each', 'elsewhere', 'myself', 'might', 'and', 'yours', 'i', 'upon', 'keep', 'whoever', 'can', 'thru', 'did', 'became', \"'re\", 'often', 'yet', 'be', '’d', 'quite', 'she', 'various', '‘m', '‘ve', 'thus', 'doing', 'were', 'during', 'enough', 'where', 'whole', 'by', 'him', 'our', 'whether', 'namely', 'as', 'are', '’s', 'further', 'those', 'eight', 'is', 'give', 'please', 'thence', 'least', 'us', 'everywhere', 'latter', 'towards', 'two', 'once', 'such', 'must', 'somewhere', 'part', 'already', 'any', 'itself', 'everyone', 'some', 'they', 'after', 'from', 'it', 'through', 'another', 'hereby', 'otherwise', 'before', 'hence', 'whereby', 'amongst', 'under', 'hereupon', 'always', 'therefore', 'something', '’ve', '‘d', 'used', 'will', 'most', 're', 'third', 'amount', 'eleven', 'whose', 'whatever', 'beside', 'ten', 'see', 'ours', '‘re', 'one', 'back', 'due', 'next', 'becomes', 'unless', 'perhaps', 'their', 'too', 'twenty', 'full', 'herein', 'whereupon', 'me', 'anyone', 'may', 'have', 'five', 'both', 'than', 'off', 'fifteen', 'an', 'go', 'name', 'beyond', 'what', 'front', 'many', 'over', 'however', 'six', '’m', 'other', 'in', 'cannot', 'serious', 'either', 'how', \"'d\", 'top', 'you', 'ourselves', 'though', 'while', 'still', 'anything', 'noone', 'made', 'behind', 'being', 'herself', '’ll', 'everything', 'not', 'twelve', 'along', 'its', 'at', 'sixty', 'moreover', 'take', 'nevertheless', 'his', 'whereafter', 'should', 'down', 'now', 'becoming', 'who', 'less', 'mine', 'out', 'nothing', 'put', 'hundred', 'beforehand', 'anywhere', 'about', 'here', 'up', 'bottom', 'anyway', 'toward', 'seeming', 'using', 'although', 'much', 'side', 'nine', 'this', 'alone', 'say', 'between', \"'ll\", 'themselves', 'nor', 'across', 'whither', 'neither', 'wherein', 'whereas', 'last', 'throughout', 'these', 'within', '‘ll', 'them', 'the', 'himself', 'a', 'he', 'thereafter', 'seemed', 'of', 'seem', 'sometime', 'move', 'few', 'onto', 'against', 'has', 'would', '’re', 'very', 'get', 'besides', 'with', 'on', 'so', \"n't\", 'without', 'every', 'that', 'empty', 'only', 'why', 'really', 'if', 'around', 'until', 'nowhere', 'thereby', 'rather', 'regarding', 'been', 'thereupon', 'mostly', 'ever', 'above', 'again', 'also', 'indeed', 'then', 'there', 'her', 'via', 'am', 'which', 'but', 'had', \"'m\", 'n’t', 'even', 'per', 'n‘t', 'four', 'seems', 'therein', 'never', 'together', 'meanwhile', 'or', 'into', 'anyhow', 'hers', 'several', 'whenever', '‘s', 'nobody', 'sometimes', 'someone'}\n"
     ]
    }
   ],
   "source": [
    "print(nlp.Defaults.stop_words)"
   ]
  },
  {
   "cell_type": "code",
   "execution_count": 4,
   "metadata": {},
   "outputs": [
    {
     "data": {
      "text/plain": [
       "False"
      ]
     },
     "execution_count": 4,
     "metadata": {},
     "output_type": "execute_result"
    }
   ],
   "source": [
    "nlp.vocab['Hamed'].is_stop"
   ]
  },
  {
   "cell_type": "code",
   "execution_count": 10,
   "metadata": {},
   "outputs": [],
   "source": [
    "nlp.Defaults.stop_words.add('Hamed')\n",
    "nlp.vocab['Hamed'].is_stop = True \n"
   ]
  },
  {
   "cell_type": "code",
   "execution_count": 11,
   "metadata": {},
   "outputs": [
    {
     "data": {
      "text/plain": [
       "True"
      ]
     },
     "execution_count": 11,
     "metadata": {},
     "output_type": "execute_result"
    }
   ],
   "source": [
    "nlp.vocab['Hamed'].is_stop"
   ]
  },
  {
   "cell_type": "code",
   "execution_count": 12,
   "metadata": {},
   "outputs": [],
   "source": [
    "nlp.Defaults.stop_words.remove('Hamed')\n",
    "nlp.vocab['Hamed'].is_stop = False \n"
   ]
  },
  {
   "cell_type": "code",
   "execution_count": 13,
   "metadata": {},
   "outputs": [
    {
     "data": {
      "text/plain": [
       "False"
      ]
     },
     "execution_count": 13,
     "metadata": {},
     "output_type": "execute_result"
    }
   ],
   "source": [
    "nlp.vocab['Hamed'].is_stop"
   ]
  },
  {
   "cell_type": "code",
   "execution_count": 15,
   "metadata": {},
   "outputs": [],
   "source": [
    "from nltk.corpus import stopwords"
   ]
  },
  {
   "cell_type": "code",
   "execution_count": 17,
   "metadata": {},
   "outputs": [
    {
     "name": "stdout",
     "output_type": "stream",
     "text": [
      "['i', 'me', 'my', 'myself', 'we', 'our', 'ours', 'ourselves', 'you', \"you're\", \"you've\", \"you'll\", \"you'd\", 'your', 'yours', 'yourself', 'yourselves', 'he', 'him', 'his', 'himself', 'she', \"she's\", 'her', 'hers', 'herself', 'it', \"it's\", 'its', 'itself', 'they', 'them', 'their', 'theirs', 'themselves', 'what', 'which', 'who', 'whom', 'this', 'that', \"that'll\", 'these', 'those', 'am', 'is', 'are', 'was', 'were', 'be', 'been', 'being', 'have', 'has', 'had', 'having', 'do', 'does', 'did', 'doing', 'a', 'an', 'the', 'and', 'but', 'if', 'or', 'because', 'as', 'until', 'while', 'of', 'at', 'by', 'for', 'with', 'about', 'against', 'between', 'into', 'through', 'during', 'before', 'after', 'above', 'below', 'to', 'from', 'up', 'down', 'in', 'out', 'on', 'off', 'over', 'under', 'again', 'further', 'then', 'once', 'here', 'there', 'when', 'where', 'why', 'how', 'all', 'any', 'both', 'each', 'few', 'more', 'most', 'other', 'some', 'such', 'no', 'nor', 'not', 'only', 'own', 'same', 'so', 'than', 'too', 'very', 's', 't', 'can', 'will', 'just', 'don', \"don't\", 'should', \"should've\", 'now', 'd', 'll', 'm', 'o', 're', 've', 'y', 'ain', 'aren', \"aren't\", 'couldn', \"couldn't\", 'didn', \"didn't\", 'doesn', \"doesn't\", 'hadn', \"hadn't\", 'hasn', \"hasn't\", 'haven', \"haven't\", 'isn', \"isn't\", 'ma', 'mightn', \"mightn't\", 'mustn', \"mustn't\", 'needn', \"needn't\", 'shan', \"shan't\", 'shouldn', \"shouldn't\", 'wasn', \"wasn't\", 'weren', \"weren't\", 'won', \"won't\", 'wouldn', \"wouldn't\"]\n"
     ]
    }
   ],
   "source": [
    "stop_words = stopwords.words('english')\n",
    "print(stop_words)"
   ]
  }
 ],
 "metadata": {
  "kernelspec": {
   "display_name": "Python 3.8.8 ('base')",
   "language": "python",
   "name": "python3"
  },
  "language_info": {
   "codemirror_mode": {
    "name": "ipython",
    "version": 3
   },
   "file_extension": ".py",
   "mimetype": "text/x-python",
   "name": "python",
   "nbconvert_exporter": "python",
   "pygments_lexer": "ipython3",
   "version": "3.8.8"
  },
  "orig_nbformat": 4,
  "vscode": {
   "interpreter": {
    "hash": "53d50ed1839d2292cfd39f0644d59e889da85062f836d8db82f8d3a293c0c3a5"
   }
  }
 },
 "nbformat": 4,
 "nbformat_minor": 2
}
